{
 "cells": [
  {
   "cell_type": "code",
   "execution_count": 1,
   "id": "199cc700-39bf-4891-bc3c-95947a07758a",
   "metadata": {},
   "outputs": [],
   "source": [
    "library(ismev)\n"
   ]
  },
  {
   "cell_type": "code",
   "execution_count": 2,
   "id": "7ae68173-15d6-4ac2-a537-c5a39141e984",
   "metadata": {},
   "outputs": [],
   "source": [
    "data(portpirie)\n",
    "plot(portpirie,ylab='Annual Maximum Sea Levels at Port Pirie, South Australia',xlab='Year',ty='h')\n"
   ]
  },
  {
   "cell_type": "code",
   "execution_count": 3,
   "id": "5ddfb709-5a64-4c46-95f9-935f01f11084",
   "metadata": {},
   "outputs": [],
   "source": [
    "FM1<-gev.fit(portpirie[,2])\n",
    "gev.diag(FM1)\n"
   ]
  },
  {
   "cell_type": "code",
   "execution_count": null,
   "id": "4acb91f2-0758-48ec-bc74-8ce1f7c2f722",
   "metadata": {},
   "outputs": [],
   "source": []
  }
 ],
 "metadata": {
  "kernelspec": {
   "display_name": "R",
   "language": "R",
   "name": "ir"
  },
  "language_info": {
   "codemirror_mode": "r",
   "file_extension": ".r",
   "mimetype": "text/x-r-source",
   "name": "R",
   "pygments_lexer": "r",
   "version": "4.3.2"
  }
 },
 "nbformat": 4,
 "nbformat_minor": 5
}
